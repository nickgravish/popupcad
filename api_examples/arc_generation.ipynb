{
 "cells": [
  {
   "cell_type": "code",
   "execution_count": 12,
   "metadata": {
    "collapsed": true
   },
   "outputs": [],
   "source": [
    "%qtconsole"
   ]
  },
  {
   "cell_type": "markdown",
   "metadata": {},
   "source": [
    "# Load in packages and load in file "
   ]
  },
  {
   "cell_type": "code",
   "execution_count": 5,
   "metadata": {
    "collapsed": false
   },
   "outputs": [
    {
     "name": "stdout",
     "output_type": "stream",
     "text": [
      "[SketchOp, SketchOp, SketchOp, LaminateOp, LaminateOp]\n",
      "\r\n",
      "--------------------------- Operations ---------------------------\n",
      "SketchOp\n",
      "SketchOp\n",
      "SketchOp\n",
      "LaminateOp\n",
      "LaminateOp\n"
     ]
    }
   ],
   "source": [
    "import sys\n",
    "import popupcad\n",
    "import time\n",
    "import os\n",
    "from pprint import pprint \n",
    "import numpy as np\n",
    "\n",
    "# for plotting\n",
    "import matplotlib.pyplot as plt\n",
    "import seaborn as sns\n",
    "%matplotlib qt4\n",
    "\n",
    "# file to load and work with\n",
    "myfile    = 'test_arc_geometry.cad'\n",
    "\n",
    "d = popupcad.filetypes.design.Design.load_yaml(myfile)\n",
    "d.reprocessoperations(debugprint=True)\n",
    "\n",
    "print('\\r\\n--------------------------- Operations ---------------------------')\n",
    "for child in d.operations:\n",
    "    print(child)\n"
   ]
  },
  {
   "cell_type": "markdown",
   "metadata": {},
   "source": [
    "# Find points of output geometry\n",
    "\n",
    "The final laminate op is the layer that we are interested. To access the geometry we need to access the genericlaminate "
   ]
  },
  {
   "cell_type": "code",
   "execution_count": 26,
   "metadata": {
    "collapsed": true
   },
   "outputs": [],
   "source": [
    "\n",
    "final_operation = d.operations[-1] # references the last operation in the list\n",
    "output_geom     = layer.output[0] # there is only one output laminate \n",
    "gen_lam = output_geom.generic_laminate() # generates the most basis point representation of the laminate\n",
    "\n",
    "all_geoms = gen_lam.all_geoms() \n",
    "geom = all_geoms[0] # choose the first geom, which is for the first layer. All layers are the same.\n",
    "\n",
    "interiorpoints = geom.interiorpoints()[0]  # Selecting the first in the list because there is only one geom\n",
    "exteriorpoints = geom.exteriorpoints()[0]  # Selecting the first in the list because there is only one geom"
   ]
  },
  {
   "cell_type": "code",
   "execution_count": 30,
   "metadata": {
    "collapsed": false
   },
   "outputs": [
    {
     "name": "stdout",
     "output_type": "stream",
     "text": [
      "62\n"
     ]
    },
    {
     "data": {
      "text/plain": [
       "[(2.9012360050455457, 1.6390423572744017),\n",
       " (2.896754420841497, 1.730267099448567),\n",
       " (2.8833528283351195, 1.8206132974870706),\n",
       " (2.861160292188306, 1.9092108681145536),\n",
       " (2.830390538655824, 1.9952065682935154),\n",
       " (2.791339897284651, 2.0777722124212),\n",
       " (2.7443844470984415, 2.156112648209686),\n",
       " (2.6899763947509503, 2.2294734144370922),\n",
       " (2.628639719528749, 2.2971480068215744),\n",
       " (2.5609651271442666, 2.358484682043774),\n",
       " (2.48760436091686, 2.412892734391265),\n",
       " (2.409263925128373, 2.4598481845774733),\n",
       " (2.326698281000688, 2.498898825948646),\n",
       " (2.240702580821726, 2.5296685794811267),\n",
       " (2.1521050101942425, 2.551861115627939),\n",
       " (2.061758812155739, 2.5652627081343153),\n",
       " (1.9705340699815812, 2.5697442923383633),\n",
       " (1.8793093278074238, 2.565262708134315),\n",
       " (1.78896312976892, 2.551861115627938),\n",
       " (1.7003655591414366, 2.5296685794811253),\n",
       " (1.6143698589624749, 2.498898825948644),\n",
       " (1.5318042148347897, 2.459848184577471),\n",
       " (1.4534637790463032, 2.412892734391262),\n",
       " (1.380103012818897, 2.358484682043771),\n",
       " (1.3124284204344145, 2.2971480068215704),\n",
       " (1.2510917452122141, 2.229473414437088),\n",
       " (1.1966836928647226, 2.1561126482096813),\n",
       " (1.1497282426785138, 2.0777722124211944),\n",
       " (1.110677601307341, 1.9952065682935087),\n",
       " (1.0799078477748598, 1.9092108681145468),\n",
       " (1.0577153116280469, 1.820613297487063),\n",
       " (1.0443137191216705, 1.730267099448559),\n",
       " (1.0398321349176223, 1.6390423572744008),\n",
       " (1.0443137191216707, 1.5478176151002427),\n",
       " (1.0577153116280473, 1.4574714170617387),\n",
       " (1.0799078477748603, 1.368873846434255),\n",
       " (1.1106776013073416, 1.2828781462552927),\n",
       " (1.149728242678515, 1.2003125021276073),\n",
       " (1.196683692864724, 1.1219720663391204),\n",
       " (1.2510917452122152, 1.0486113001117137),\n",
       " (1.26677494955518, 1.0313075506445673),\n",
       " (-3.0755064456721914, 1.0313075506445673),\n",
       " (-3.0755064456721914, -1.3996316758747698),\n",
       " (1.841620626151013, -1.3996316758747698),\n",
       " (1.841620626151013, 0.7184125971937305),\n",
       " (1.8793093278074275, 0.7128220064144881),\n",
       " (1.9705340699815854, 0.70834042221044),\n",
       " (2.0617588121557433, 0.7128220064144885),\n",
       " (2.152105010194247, 0.7262235989208652),\n",
       " (2.2407025808217305, 0.7484161350676781),\n",
       " (2.3266982810006924, 0.7791858886001592),\n",
       " (2.4092639251283776, 0.8182365299713326),\n",
       " (2.4876043609168645, 0.8651919801575414),\n",
       " (2.560965127144271, 0.9196000325050327),\n",
       " (2.6286397195287536, 0.9809367077272331),\n",
       " (2.689976394750954, 1.0486113001117157),\n",
       " (2.744384447098445, 1.1219720663391222),\n",
       " (2.7913398972846535, 1.2003125021276089),\n",
       " (2.8303905386558266, 1.2828781462552943),\n",
       " (2.8611602921883077, 1.3688738464342562),\n",
       " (2.883352828335121, 1.45747141706174),\n",
       " (2.8967544208414977, 1.5478176151002438)]"
      ]
     },
     "execution_count": 30,
     "metadata": {},
     "output_type": "execute_result"
    }
   ],
   "source": [
    "print(len(interiorpoints))\n",
    "interiorpoints\n"
   ]
  },
  {
   "cell_type": "code",
   "execution_count": null,
   "metadata": {
    "collapsed": true
   },
   "outputs": [],
   "source": []
  }
 ],
 "metadata": {
  "kernelspec": {
   "display_name": "Python 3",
   "language": "python",
   "name": "python3"
  },
  "language_info": {
   "codemirror_mode": {
    "name": "ipython",
    "version": 3
   },
   "file_extension": ".py",
   "mimetype": "text/x-python",
   "name": "python",
   "nbconvert_exporter": "python",
   "pygments_lexer": "ipython3",
   "version": "3.4.4"
  }
 },
 "nbformat": 4,
 "nbformat_minor": 0
}
