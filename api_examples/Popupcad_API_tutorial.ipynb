{
 "cells": [
  {
   "cell_type": "code",
   "execution_count": 1,
   "metadata": {
    "collapsed": true
   },
   "outputs": [],
   "source": [
    "%qtconsole"
   ]
  },
  {
   "cell_type": "markdown",
   "metadata": {},
   "source": [
    "# First task, can we open up and edit design files programmatically?\n",
    "\n",
    "\n",
    "From the file, `load_file2.py`, api example we see with some simple code we can load in a design file. Below is a modified version of this file to load a design file by name without a QT popup box. This script reprocesses the layer operations and then prints out the layer operations in order. \n"
   ]
  },
  {
   "cell_type": "code",
   "execution_count": 1,
   "metadata": {
    "collapsed": false
   },
   "outputs": [
    {
     "name": "stdout",
     "output_type": "stream",
     "text": [
      "[hinge_footprint(SketchOp), GeometryForHinge(SketchOp), kapton_hing(SketchOp), Body(SketchOp), Body2(SketchOp), top_mount(SketchOp), SketchOp, LaminateOp, WithHinge(LaminateOp), KeyholeWingMount2(SketchOp), KeyholeWingMount1(SketchOp), KeyholeWingMount(LaminateOp), WithHinge2(LaminateOp), KeyholeWingMount3(LaminateOp), KaptonKeepout(SketchOp), CurrentHinge(LaminateOp), BottomHoles(SketchOp), AddBottomHoles(LaminateOp), TopHoles(SketchOp), CurrentHinge2(LaminateOp), BottomBracket(SketchOp), SizeBottomBracket(LaminateOp), BottomStops(SketchOp), BottomTeeth(LaminateOp), AddBottomBracket(LaminateOp), TopTeeth(SketchOp), FinalPart(LaminateOp), FinalePartWithKAKeepouts(LaminateOp), Cleanup, Support, SupportAreas(SketchOp), LaminateOp, LaminateOp, Web, FinalPart(LaminateOp), ReleaseCut(LaminateOp)]\n",
      "--------------------------- Operations ---------------------------\n",
      "hinge_footprint(SketchOp)\n",
      "GeometryForHinge(SketchOp)\n",
      "kapton_hing(SketchOp)\n",
      "Body(SketchOp)\n",
      "Body2(SketchOp)\n",
      "top_mount(SketchOp)\n",
      "SketchOp\n",
      "LaminateOp\n",
      "WithHinge(LaminateOp)\n",
      "KeyholeWingMount2(SketchOp)\n",
      "KeyholeWingMount1(SketchOp)\n",
      "KeyholeWingMount(LaminateOp)\n",
      "WithHinge2(LaminateOp)\n",
      "KeyholeWingMount3(LaminateOp)\n",
      "KaptonKeepout(SketchOp)\n",
      "CurrentHinge(LaminateOp)\n",
      "BottomHoles(SketchOp)\n",
      "AddBottomHoles(LaminateOp)\n",
      "TopHoles(SketchOp)\n",
      "CurrentHinge2(LaminateOp)\n",
      "BottomBracket(SketchOp)\n",
      "SizeBottomBracket(LaminateOp)\n",
      "BottomStops(SketchOp)\n",
      "BottomTeeth(LaminateOp)\n",
      "AddBottomBracket(LaminateOp)\n",
      "TopTeeth(SketchOp)\n",
      "FinalPart(LaminateOp)\n",
      "FinalePartWithKAKeepouts(LaminateOp)\n",
      "Cleanup\n",
      "Support\n",
      "SupportAreas(SketchOp)\n",
      "LaminateOp\n",
      "LaminateOp\n",
      "Web\n",
      "FinalPart(LaminateOp)\n",
      "ReleaseCut(LaminateOp)\n"
     ]
    },
    {
     "name": "stderr",
     "output_type": "stream",
     "text": [
      "/Users/nickgravish/anaconda/envs/popupcad_env1/lib/python3.4/site-packages/IPython/html.py:14: ShimWarning: The `IPython.html` package has been deprecated. You should import from `notebook` instead. `IPython.html.widgets` has moved to `ipywidgets`.\n",
      "  \"`IPython.html.widgets` has moved to `ipywidgets`.\", ShimWarning)\n"
     ]
    }
   ],
   "source": [
    "import sys\n",
    "import popupcad\n",
    "import time\n",
    "import os\n",
    "from pprint import pprint \n",
    "import numpy as np\n",
    "\n",
    "# for plotting\n",
    "import matplotlib.pyplot as plt\n",
    "import seaborn as sns\n",
    "%matplotlib qt4\n",
    "\n",
    "# file to load and work with\n",
    "myfolder  = '/Users/nickgravish/popupCAD_files/designs/'\n",
    "myfile    = 'robobee_interference_hinge.cad'\n",
    "\n",
    "d = popupcad.filetypes.design.Design.load_yaml(os.path.join(myfolder, myfile))\n",
    "d.reprocessoperations(debugprint=True)\n",
    "\n",
    "print('--------------------------- Operations ---------------------------')\n",
    "for child in d.operations:\n",
    "    print(child)\n"
   ]
  },
  {
   "cell_type": "markdown",
   "metadata": {},
   "source": [
    "## Next lets examine the contents of the design file "
   ]
  },
  {
   "cell_type": "markdown",
   "metadata": {},
   "source": [
    "First lets look at the sketches contained in this file"
   ]
  },
  {
   "cell_type": "code",
   "execution_count": 2,
   "metadata": {
    "collapsed": false
   },
   "outputs": [
    {
     "data": {
      "text/plain": [
       "{4401826064: KaptonKeepOut,\n",
       " 4672649360: TopMountGeometry,\n",
       " 4679580048: BottomHoles,\n",
       " 4707609552: TopStops,\n",
       " 4709385616: BottomMountingBracket1,\n",
       " 4709395600: RobobeeKeyhole,\n",
       " 4709396752: TopHoles,\n",
       " 4712379728: BottomRectangle,\n",
       " 4747459792: footprint_2,\n",
       " 4748049616: TopTeeth,\n",
       " 4773848336: noah_hinge_length.sketch,\n",
       " 5001353296: wing_attach_geometry,\n",
       " 5039153104: Supports,\n",
       " 5080763216: footprint_interference_hinge,\n",
       " 5135001936: 5135001936.sketch,\n",
       " 5153733840: body}"
      ]
     },
     "execution_count": 2,
     "metadata": {},
     "output_type": "execute_result"
    }
   ],
   "source": [
    "d.sketches"
   ]
  },
  {
   "cell_type": "markdown",
   "metadata": {},
   "source": [
    "we see references are stored in a dict"
   ]
  },
  {
   "cell_type": "code",
   "execution_count": 3,
   "metadata": {
    "collapsed": false
   },
   "outputs": [
    {
     "data": {
      "text/plain": [
       "dict_keys([5080763216, 4709395600, 5039153104, 4679580048, 4773848336, 5001353296, 4401826064, 4672649360, 5135001936, 4747459792, 4709396752, 4707609552, 4709385616, 4748049616, 4712379728, 5153733840])"
      ]
     },
     "execution_count": 3,
     "metadata": {},
     "output_type": "execute_result"
    }
   ],
   "source": [
    "d.sketches.keys()"
   ]
  },
  {
   "cell_type": "markdown",
   "metadata": {},
   "source": [
    "In particular I will be interested in modifying the geometry in the top and bottom teeth sketches. We can access these through their dict key as follows."
   ]
  },
  {
   "cell_type": "code",
   "execution_count": 4,
   "metadata": {
    "collapsed": false
   },
   "outputs": [
    {
     "data": {
      "text/plain": [
       "TopTeeth"
      ]
     },
     "execution_count": 4,
     "metadata": {},
     "output_type": "execute_result"
    }
   ],
   "source": [
    "topteeth_key = 4748049616\n",
    "d.sketches[topteeth_key]"
   ]
  },
  {
   "cell_type": "markdown",
   "metadata": {},
   "source": [
    "We interact with sketch geometry through the \n",
    "\n",
    "```python\n",
    "operationgeometry\n",
    "```\n",
    "\n",
    "function which returns a list of the geometric entities in the sketch. The list can contain simple vertices or more complex shape descriptors such as `GenericPoly` which is from the `genericshapes` class.  "
   ]
  },
  {
   "cell_type": "code",
   "execution_count": 5,
   "metadata": {
    "collapsed": false
   },
   "outputs": [
    {
     "name": "stdout",
     "output_type": "stream",
     "text": [
      "[<popupcad.filetypes.genericshapes.GenericPoly object at 0x117b2b8d0>,\n",
      " vertex4779487696(-1.198264211002016, 0.14816343490304706)]\n",
      "\n",
      "\n",
      "[vertex4709941456(-2.14728564868934, -0.06485388108295956),\n",
      " vertex4822603664(-2.14728564868934, 0.397163434903047),\n",
      " vertex4827372368(-1.84728564868934, 0.397163434903047),\n",
      " vertex4810284752(-1.84728564868934, 0.147163434903047),\n",
      " vertex4810261904(-1.198264211002016, 0.147163434903047),\n",
      " vertex4822604112(-1.198264211002016, 0.397163434903047),\n",
      " vertex4810252432(-0.8982642110020161, 0.397163434903047),\n",
      " vertex4810281232(-0.8982642110020161, -0.05771551277843599)]\n"
     ]
    }
   ],
   "source": [
    "# lets look at the geometry associated with the TopStops layer\n",
    "pprint(d.sketches[topteeth_key].operationgeometry)\n",
    "\n",
    "print('\\n')\n",
    "\n",
    "# second lets look into the GenergicPoly class\n",
    "pprint(d.sketches[topteeth_key].operationgeometry[0].vertices())"
   ]
  },
  {
   "cell_type": "markdown",
   "metadata": {},
   "source": [
    "we can conver the vertex type to numpy digits"
   ]
  },
  {
   "cell_type": "code",
   "execution_count": 6,
   "metadata": {
    "collapsed": false
   },
   "outputs": [
    {
     "name": "stdout",
     "output_type": "stream",
     "text": [
      "[(-2.14728564868934, -0.06485388108295956),\n",
      " (-2.14728564868934, 0.397163434903047),\n",
      " (-1.84728564868934, 0.397163434903047),\n",
      " (-1.84728564868934, 0.147163434903047),\n",
      " (-1.198264211002016, 0.147163434903047),\n",
      " (-1.198264211002016, 0.397163434903047),\n",
      " (-0.8982642110020161, 0.397163434903047),\n",
      " (-0.8982642110020161, -0.05771551277843599)]\n"
     ]
    }
   ],
   "source": [
    "vertex_numbers = [v.getpos() for v in d.sketches[topteeth_key].operationgeometry[0].vertices()]\n",
    "\n",
    "pprint(vertex_numbers)"
   ]
  },
  {
   "cell_type": "code",
   "execution_count": 7,
   "metadata": {
    "collapsed": false
   },
   "outputs": [
    {
     "data": {
      "image/png": "[encoded data removed]",
      "text/plain": [
       "<matplotlib.figure.Figure at 0x117b50fd0>"
      ]
     },
     "execution_count": 7,
     "metadata": {},
     "output_type": "execute_result"
    }
   ],
   "source": [
    "x = [v[0] for v in vertex_numbers]\n",
    "y = [v[1] for v in vertex_numbers]\n",
    "\n",
    "plt.clf()\n",
    "plt.plot(x, y)\n",
    "plt.axes().set_aspect('equal', 'datalim')\n",
    "\n",
    "plt.gcf()\n"
   ]
  },
  {
   "cell_type": "markdown",
   "metadata": {},
   "source": [
    "This geometry looks just like the one I have drawn in popupcad so all good! Now lets look into the constraint system. "
   ]
  },
  {
   "cell_type": "code",
   "execution_count": 8,
   "metadata": {
    "collapsed": false
   },
   "outputs": [
    {
     "data": {
      "text/plain": [
       "[<popupcad.constraints.constraints.HorizontalConstraint at 0x117f39d30>,\n",
       " <popupcad.constraints.constraints.VerticalConstraint at 0x117f39d68>,\n",
       " <popupcad.constraints.constraints.VerticalConstraint at 0x117f39da0>,\n",
       " <popupcad.constraints.constraints.VerticalConstraint at 0x117f39dd8>,\n",
       " <popupcad.constraints.constraints.VerticalConstraint at 0x117f39e10>,\n",
       " <popupcad.constraints.constraints.FixedConstraint at 0x117f39e48>,\n",
       " <popupcad.constraints.constraints.YDistanceConstraint at 0x117f39e80>]"
      ]
     },
     "execution_count": 8,
     "metadata": {},
     "output_type": "execute_result"
    }
   ],
   "source": [
    "d.sketches[topteeth_key].constraintsystem.constraints"
   ]
  },
  {
   "cell_type": "markdown",
   "metadata": {},
   "source": [
    "So we can see that I have put a bunch of constraints in this sketch to place the geometry. The `YDistanceConstraint` is very important here, because I explicitly put it in to programmaticaly vary this geometric feature and auto generate the cut files. We can access the constraint equations to take a look under the hood like so. "
   ]
  },
  {
   "cell_type": "code",
   "execution_count": 9,
   "metadata": {
    "collapsed": false
   },
   "outputs": [
    {
     "name": "stdout",
     "output_type": "stream",
     "text": [
      "['Horizontal',\n",
      " 'Vertical',\n",
      " 'Vertical',\n",
      " 'Vertical',\n",
      " 'Vertical',\n",
      " 'Fixed',\n",
      " 'Y Distance']\n"
     ]
    },
    {
     "data": {
      "text/plain": [
       "0.25"
      ]
     },
     "execution_count": 9,
     "metadata": {},
     "output_type": "execute_result"
    }
   ],
   "source": [
    "# lets programmatically select the Y distance constraint\n",
    "constraint_names = [c.name for c in d.sketches[topteeth_key].constraintsystem.constraints]\n",
    "pprint(constraint_names)\n",
    "\n",
    "idx = [i for i, c in enumerate(constraint_names) if c == 'Y Distance']\n",
    "idx = idx[0] # just worry about one for now\n",
    "\n",
    "d.sketches[topteeth_key].constraintsystem.constraints[idx].value"
   ]
  },
  {
   "cell_type": "markdown",
   "metadata": {},
   "source": [
    "The `Y distance` constraint value is the one I would like to programmatically change. Very quickly, lets see what else in the constraint system we can access. Below shows the system of equations that are solved, with the last equation being the `Y distance` constraint "
   ]
  },
  {
   "cell_type": "code",
   "execution_count": 10,
   "metadata": {
    "collapsed": false
   },
   "outputs": [
    {
     "data": {
      "text/plain": [
       "[-vertex4810252432_y + vertex4822604112_y,\n",
       " -vertex4810252432_y + vertex4822603664_y,\n",
       " -vertex4810252432_y + vertex4827372368_y,\n",
       " -vertex4810261904_x + vertex4822604112_x,\n",
       " -vertex4810252432_x + vertex4810281232_x,\n",
       " -vertex4810284752_x + vertex4827372368_x,\n",
       " -vertex4709941456_x + vertex4822603664_x,\n",
       " vertex4810284752_x + 1.84728564868934,\n",
       " vertex4810284752_y - 0.147163434903047,\n",
       " ((vertex4810284752_y - vertex4827372368_y)**2)**0.5 - 0.25]"
      ]
     },
     "execution_count": 10,
     "metadata": {},
     "output_type": "execute_result"
    }
   ],
   "source": [
    "d.sketches[topteeth_key].constraintsystem.generator.equations"
   ]
  },
  {
   "cell_type": "markdown",
   "metadata": {},
   "source": [
    "The last constrain shows So now let's see how to vary this distance constraint and reprocess the operations. "
   ]
  },
  {
   "cell_type": "markdown",
   "metadata": {},
   "source": [
    "lets update the value and reprocess the constraints etc\n",
    "\n",
    "# The following code block is the one I would like to get to work. "
   ]
  },
  {
   "cell_type": "code",
   "execution_count": 17,
   "metadata": {
    "collapsed": false
   },
   "outputs": [],
   "source": [
    "# Change the constraint value\n",
    "d.sketches[topteeth_key].constraintsystem.constraints[idx].value = 0.3\n",
    "# prove that it changed\n",
    "d.sketches[topteeth_key].constraintsystem.constraints[idx].value\n",
    "\n",
    "\n",
    "# now update the vertices based on the new constraints\n",
    "d.sketches[topteeth_key].constraintsystem.update() # not working!\n",
    "############### OK stopping here but am not sure how to get update to work \n"
   ]
  },
  {
   "cell_type": "code",
   "execution_count": 15,
   "metadata": {
    "collapsed": false
   },
   "outputs": [],
   "source": [
    "# This is the code block used in the update constraints section of the sketcher\n",
    "\n",
    "# d.sketches[topteeth_key].constraintsystem.cleanup()\n",
    "# del d.sketches[topteeth_key].constraintsystem.generator\n",
    "# d.sketches[topteeth_key].constraintsystem.update()"
   ]
  },
  {
   "cell_type": "markdown",
   "metadata": {},
   "source": [
    "If the constraint update worked, then the following plot should show the original geometry with the vertical teeth at one length, and then the modified geometry with the vertical teeth at a shorter length.  "
   ]
  },
  {
   "cell_type": "code",
   "execution_count": 16,
   "metadata": {
    "collapsed": false
   },
   "outputs": [
    {
     "data": {
      "image/png": "[encoded data removed]",
      "text/plain": [
       "<matplotlib.figure.Figure at 0x117b50fd0>"
      ]
     },
     "execution_count": 16,
     "metadata": {},
     "output_type": "execute_result"
    }
   ],
   "source": [
    "# original\n",
    "plt.clf()\n",
    "plt.plot(x, y)\n",
    "plt.axes().set_aspect('equal', 'datalim')\n",
    "plt.gcf()\n",
    "\n",
    "vertex_numbers = [v.getpos() for v in d.sketches[topteeth_key].operationgeometry[0].vertices()]\n",
    "x = [v[0] for v in vertex_numbers]\n",
    "y = [v[1] for v in vertex_numbers]\n",
    "\n",
    "plt.plot(x, y)\n",
    "plt.axes().set_aspect('equal', 'datalim')\n",
    "plt.gcf()\n"
   ]
  },
  {
   "cell_type": "code",
   "execution_count": null,
   "metadata": {
    "collapsed": true
   },
   "outputs": [],
   "source": []
  }
 ],
 "metadata": {
  "kernelspec": {
   "display_name": "Python 3",
   "language": "python",
   "name": "python3"
  },
  "language_info": {
   "codemirror_mode": {
    "name": "ipython",
    "version": 3
   },
   "file_extension": ".py",
   "mimetype": "text/x-python",
   "name": "python",
   "nbconvert_exporter": "python",
   "pygments_lexer": "ipython3",
   "version": "3.4.4"
  }
 },
 "nbformat": 4,
 "nbformat_minor": 0
}
